{
 "cells": [
  {
   "cell_type": "markdown",
   "metadata": {},
   "source": [
    "# Lab | Intro to Probability"
   ]
  },
  {
   "cell_type": "markdown",
   "metadata": {},
   "source": [
    "**Objective**\n",
    "\n",
    "Welcome to this Intro to Probability lab, where we explore decision-making scenarios through the lens of probability and strategic analysis. In the business world, making informed decisions is crucial, especially when faced with uncertainties. This lab focuses on scenarios where probabilistic outcomes play a significant role in shaping strategies and outcomes. Students will engage in exercises that require assessing and choosing optimal paths based on data-driven insights. The goal is to enhance your skills by applying probability concepts to solve real-world problems."
   ]
  },
  {
   "cell_type": "markdown",
   "metadata": {},
   "source": [
    "**Challenge 1**"
   ]
  },
  {
   "cell_type": "markdown",
   "metadata": {},
   "source": [
    "#### Ironhack Airlines \n",
    "\n",
    "Often Airlines sell more tickets than they have seats available, this is called overbooking. Consider the following:\n",
    "- A plane has 450 seats. \n",
    "- Based on historical data we conclude that each individual passenger has a 3% chance of missing it's flight. \n",
    "\n",
    "If the Ironhack Airlines routinely sells 460 tickets, what is the chance that they have a seats for all passenger?"
   ]
  },
  {
   "cell_type": "code",
   "execution_count": 1,
   "metadata": {},
   "outputs": [],
   "source": [
    "from scipy.stats import binom"
   ]
  },
  {
   "cell_type": "code",
   "execution_count": 7,
   "metadata": {},
   "outputs": [
    {
     "name": "stdout",
     "output_type": "stream",
     "text": [
      "The probability is 0.11552275337845685\n"
     ]
    }
   ],
   "source": [
    "n = 460  #numero de billetes vendidos\n",
    "p = 0.97 #probabilidad de que la gente vaya\n",
    "\n",
    "binom_dist = binom(n, p)\n",
    "# Calcular la probabilidad de que más de 450 pasajeros se presenten\n",
    "prob = 1 - binom_dist.cdf(450)\n",
    "prob\n",
    "print(f\"The probability is {prob}\")"
   ]
  },
  {
   "cell_type": "markdown",
   "metadata": {},
   "source": [
    "**Challenge 2**"
   ]
  },
  {
   "cell_type": "markdown",
   "metadata": {},
   "source": [
    "#### Ironhack Call Center "
   ]
  },
  {
   "cell_type": "markdown",
   "metadata": {},
   "source": [
    "Suppose a customer service representative at a call center is handling customer complaints. Consider the following:\n",
    "- The probability of successfully resolving a customer complaint on the first attempt is 0.3. \n",
    "\n",
    "\n",
    "What is the probability that the representative needs to make at least three attempts before successfully resolving a customer complaint?"
   ]
  },
  {
   "cell_type": "code",
   "execution_count": 6,
   "metadata": {},
   "outputs": [
    {
     "name": "stdout",
     "output_type": "stream",
     "text": [
      "The probability is 0.49\n"
     ]
    }
   ],
   "source": [
    "#code here\n",
    "# probabilidad exito en primer intento es 0.3\n",
    "\n",
    "from scipy.stats import geom   #LA PROBABILIDAD DE QUE PASE UN EVENTO DESPUES DE X INTENTOS\n",
    "\n",
    "p = 0.3\n",
    "geom_dist = geom(p)\n",
    "\n",
    "print(f\"The probability is {1 - geom_dist.cdf(2)}\")   #DICE PROBABILIDAD DESPUES DE 2 INTENTOS\n",
    "#por que en el enunciado dice al menos al tercer intento"
   ]
  },
  {
   "cell_type": "markdown",
   "metadata": {},
   "source": [
    "**Challenge 3**"
   ]
  },
  {
   "cell_type": "markdown",
   "metadata": {},
   "source": [
    "#### Ironhack Website"
   ]
  },
  {
   "cell_type": "markdown",
   "metadata": {},
   "source": [
    "Consider a scenario related to Ironhack website traffic. Where:\n",
    "- our website takes on average 500 visits per hour.\n",
    "- the website's server is designed to handle up to 550 vists per hour.\n",
    "\n",
    "\n",
    "What is the probability of the website server being overwhelmed?"
   ]
  },
  {
   "cell_type": "code",
   "execution_count": 9,
   "metadata": {},
   "outputs": [
    {
     "name": "stdout",
     "output_type": "stream",
     "text": [
      "La probabilidad de que el servidor se vea desbordado es: 0.4881088783012486\n"
     ]
    }
   ],
   "source": [
    "#code here\n",
    "# de media 500 visitas por hora\n",
    "# el servidor aguanta 550 visitas por hora\n",
    "#Cuál es la probabilidad de que el servidor del sitio web se vea desbordado?\n",
    "\n",
    "from scipy.stats import poisson\n",
    "\n",
    "mu = 500 #de media 500 visitas por hora\n",
    "poisson_dist = poisson(mu)\n",
    "prob_overflow = 1 - poisson_dist.cdf(mu)  #probabilidad de que caiga si hay mas de 500 visitas\n",
    "\n",
    "print(f\"La probabilidad de que el servidor se vea desbordado es: {prob_overflow}\")"
   ]
  },
  {
   "cell_type": "markdown",
   "metadata": {},
   "source": [
    "What is the probability of being overwhelmed at some point during a day? (consider 24hours)"
   ]
  },
  {
   "cell_type": "code",
   "execution_count": 10,
   "metadata": {},
   "outputs": [
    {
     "name": "stdout",
     "output_type": "stream",
     "text": [
      "La probabilidad de que el servidor se vea desbordado en 24 horas: 0.9999998952238752\n"
     ]
    }
   ],
   "source": [
    "prob_overload_24_hours = 1 - (1 - prob_overflow) ** 24\n",
    "print(f\"La probabilidad de que el servidor se vea desbordado en 24 horas: {prob_overload_24_hours}\")"
   ]
  },
  {
   "cell_type": "markdown",
   "metadata": {},
   "source": [
    "**Challenge 4**"
   ]
  },
  {
   "cell_type": "markdown",
   "metadata": {},
   "source": [
    "#### Ironhack Helpdesk"
   ]
  },
  {
   "cell_type": "markdown",
   "metadata": {},
   "source": [
    "Consider a scenario related to the time between arrivals of customers at a service desk.\n",
    "\n",
    "On average, a customers arrives every 10minutes.\n",
    "\n",
    "What is the probability that the next customer will arrive within the next 5 minutes?"
   ]
  },
  {
   "cell_type": "code",
   "execution_count": null,
   "metadata": {},
   "outputs": [],
   "source": [
    "#cada 10 min un cliente\n",
    "#¿Cuál es la probabilidad de que el siguiente cliente llegue en los próximos 5 minutos?"
   ]
  },
  {
   "cell_type": "code",
   "execution_count": 11,
   "metadata": {},
   "outputs": [
    {
     "data": {
      "text/plain": [
       "0.3934693402873666"
      ]
     },
     "execution_count": 11,
     "metadata": {},
     "output_type": "execute_result"
    }
   ],
   "source": [
    "from scipy.stats import expon\n",
    "lambda_value = 1 / 10  #uno cada diez min  da 0.1\n",
    "\n",
    "lambda_inv = expon(scale = 1/lambda_value)\n",
    "\n",
    "lambda_inv.cdf(5)"
   ]
  },
  {
   "cell_type": "markdown",
   "metadata": {},
   "source": [
    "If there is no customer for 15minutes, employees can that a 5minutes break.\n",
    "\n",
    "What is the probability an employee taking a break?"
   ]
  },
  {
   "cell_type": "code",
   "execution_count": 14,
   "metadata": {},
   "outputs": [
    {
     "name": "stdout",
     "output_type": "stream",
     "text": [
      "La probabilidad de que un empleado se tome un descanso es: 0.2231301601484298\n"
     ]
    }
   ],
   "source": [
    "lambda_rate = 1 / 10  # Tasa de llegada de clientes (1 cada 10 minutos)\n",
    "t = 15  #Si en 15 min no hay clientes\n",
    "\n",
    "# Calcular la probabilidad de que el tiempo entre llegadas sea mayor a 15 minutos\n",
    "prob_break = 1 - expon.cdf(t, scale=1/lambda_rate)\n",
    "\n",
    "print(f\"La probabilidad de que un empleado se tome un descanso es: {prob_break}\")"
   ]
  },
  {
   "cell_type": "markdown",
   "metadata": {},
   "source": [
    "**Challenge 5**"
   ]
  },
  {
   "cell_type": "markdown",
   "metadata": {},
   "source": [
    "The weights of a certain species of birds follow a normal distribution with a mean weight of 150 grams and a standard deviation of 10 grams. \n",
    "\n",
    "- If we randomly select a bird, what is the probability that its weight is between 140 and 160 grams?"
   ]
  },
  {
   "cell_type": "code",
   "execution_count": 16,
   "metadata": {},
   "outputs": [
    {
     "name": "stdout",
     "output_type": "stream",
     "text": [
      "Probabiliddad de que el el peso esté entre 140 y 160 gramos es: 0.6826894921370859\n"
     ]
    }
   ],
   "source": [
    "#code here\n",
    "#code here\n",
    "#150 gramos y una desviación típica de 10 gramos.\n",
    "# Si seleccionamos un pájaro al azar, ¿cuál es la probabilidad de que su peso esté entre 140 y 160 gramos?\n",
    "from scipy.stats import norm\n",
    "\n",
    "mean = 150\n",
    "std = 10\n",
    "\n",
    "norm_dist = norm(loc = mean, scale = std)\n",
    "print(f\"Probabiliddad de que el el peso esté entre 140 y 160 gramos es: {norm_dist.cdf(160) - norm_dist.cdf(140)}\")\n"
   ]
  },
  {
   "cell_type": "markdown",
   "metadata": {},
   "source": [
    "**Challenge 6**"
   ]
  },
  {
   "cell_type": "markdown",
   "metadata": {},
   "source": [
    "If the lifetime (in hours) of a certain electronic component follows an exponential distribution with a mean lifetime of 50 hours, what is the probability that the component fails within the first 30 hours?"
   ]
  },
  {
   "cell_type": "code",
   "execution_count": 18,
   "metadata": {},
   "outputs": [
    {
     "data": {
      "text/plain": [
       "0.4511883639059735"
      ]
     },
     "execution_count": 18,
     "metadata": {},
     "output_type": "execute_result"
    }
   ],
   "source": [
    "#vida media 50 horas\n",
    "# probabilidad de que falle a las 30 horas\n",
    "\n",
    "\n",
    "lambda_value = 1 / 50\n",
    "lambda_inv = expon(scale = 1 / lambda_value)\n",
    "lambda_inv.cdf(30)"
   ]
  }
 ],
 "metadata": {
  "kernelspec": {
   "display_name": "Python 3",
   "language": "python",
   "name": "python3"
  },
  "language_info": {
   "codemirror_mode": {
    "name": "ipython",
    "version": 3
   },
   "file_extension": ".py",
   "mimetype": "text/x-python",
   "name": "python",
   "nbconvert_exporter": "python",
   "pygments_lexer": "ipython3",
   "version": "3.12.4"
  }
 },
 "nbformat": 4,
 "nbformat_minor": 2
}
